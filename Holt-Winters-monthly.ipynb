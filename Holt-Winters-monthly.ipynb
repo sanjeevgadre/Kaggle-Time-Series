{
 "cells": [
  {
   "cell_type": "markdown",
   "metadata": {},
   "source": [
    "### Libraries"
   ]
  },
  {
   "cell_type": "code",
   "execution_count": 2,
   "metadata": {},
   "outputs": [],
   "source": [
    "import numpy as np\n",
    "import pandas as pd\n",
    "import matplotlib.pyplot as plt\n",
    "import statsmodels.api as sm\n",
    "from statsmodels.tsa.holtwinters import ExponentialSmoothing\n",
    "import itertools\n",
    "import random"
   ]
  },
  {
   "cell_type": "markdown",
   "metadata": {},
   "source": [
    "### Thoughts on Strategy Employed\n",
    "<ol>\n",
    "    <li>The problem requires prediction for a number of days for every store-item pair in the test dataset. Any model developed will be evaluated on the quality of its predictions. Symmetric Mean Absolute Percentage Error (SMAPE) is the metric to use for the evaluation.\n",
    "    <li>There are, in effect, 500 different timeseries in the train (and test) dataset - one for each store-item pair and predictions need to be made for each of these timeseries. There are 4 possible strategies, <i>in decreasing order of computing power required</i>, to build models and make predictions:\n",
    "        <ul>\n",
    "            <li>Build 500 different models, one for each for the store-item pair and then use a model to make predictions for the corresponding series in the test dataset.\n",
    "            <li>Build 50 different models, one for each item. In this strategy, a model for a item is built by aggregating the daily sales for all stores. Then use every model to make predictions for the corresponding 10 timeseries for the respective item in the test dataset.\n",
    "            <li>Build 10 different models, one for each store. In this strategy, a model for a store is built by aggregating the daily sales for all items. Then use every model to make predictions for the corresponding 50 timeseries for the respective store in the test dataset. In other words, we build a separate model for each store but apply the same model to all the 50 item series of a store.\n",
    "            <li>Build a single model. In this strategy, a model is built by aggregating the daily sales for all items across all stores. Then use the model to make predictions for the 500 timeseries in the test dataset.\n",
    "        </ul>\n",
    "    <li>We divide the train dataset into to subsets - train and validation. The train subset will be used to build the required models, where as the validation subset will be used to compare the results across the differnt strategies. We divide the train dataset in the ratio 90:10.\n",
    "    <li>To keep the computing effort manageable, 2 out of the 10 strores and 5 of the 50 items will be randomly chosen, yielding 10 store-item pair combinations. Models under strategies 1 and 2 above will be built only for the relevant store-item pairs or items and predictions under all strategies will be made for only these 10 timeseries. Average SMAPE value across the 10 timeseries will be used to compare the efficacy of the 4 proposed strategies.\n",
    "</ol>    "
   ]
  },
  {
   "cell_type": "markdown",
   "metadata": {},
   "source": [
    "### Get Data"
   ]
  },
  {
   "cell_type": "code",
   "execution_count": 39,
   "metadata": {},
   "outputs": [
    {
     "data": {
      "text/plain": [
       "0    454904\n",
       "1    459417\n",
       "2    617382\n",
       "3    682274\n",
       "4    763242\n",
       "dtype: int64"
      ]
     },
     "execution_count": 39,
     "metadata": {},
     "output_type": "execute_result"
    }
   ],
   "source": [
    "train = pd.read_csv('./data/train.csv')\n",
    "\n",
    "# Typecasting data\n",
    "train.date = pd.to_datetime(train.date, format = '%Y-%m-%d')     \n",
    "train.store = train.store.astype('category')\n",
    "train.item = train.item.astype('category')\n",
    "train['year'] = train.date.dt.year\n",
    "train['month'] = train.date.dt.month\n",
    "\n",
    "# New Timeseries that is the aggregate of the sales for all products and all items in a month\n",
    "ts_monthly = pd.Series(data = train.groupby([train.date.dt.year, train.date.dt.month])['sales'].sum().values)\n",
    "ts_monthly.head()"
   ]
  },
  {
   "cell_type": "markdown",
   "metadata": {},
   "source": [
    "#### Create Train, Validation and Test Sets"
   ]
  },
  {
   "cell_type": "markdown",
   "metadata": {},
   "source": [
    "<ol>\n",
    "    <li>We divide the timeseries into three parts, 60% train subset, 20% validation subset and 20% test subset.\n",
    "</ol>"
   ]
  },
  {
   "cell_type": "code",
   "execution_count": 52,
   "metadata": {},
   "outputs": [],
   "source": [
    "train_idx = np.int(0.6*len(ts_monthly))\n",
    "val_idx = np.int(0.8*len(ts_monthly))"
   ]
  },
  {
   "cell_type": "markdown",
   "metadata": {},
   "source": [
    "#### Set up the Configuration Grid Search"
   ]
  },
  {
   "cell_type": "code",
   "execution_count": 54,
   "metadata": {},
   "outputs": [],
   "source": [
    "# Configuration options for the model()\n",
    "trend = ['add', 'mul', None]\n",
    "damped = [True, False]\n",
    "seasonal = ['add', 'mul', None]\n",
    "seasonal_periods = [12]\n",
    "\n",
    "# Configuration options for model.fit()\n",
    "smoothing_level = [0.2, 0.4, 0.6, 0.8, 1.0]\n",
    "smoothing_slope = [0.2, 0.4, 0.6, 0.8, 1.0]\n",
    "smoothing_seasonal = [0.2, 0.4, 0.6, 0.8, 1.0]\n",
    "damping_slope = [0.2, 0.4, 0.6, 0.8, 1.0]\n",
    "box_cox = [True, False]\n",
    "remove_bias = [True, False]"
   ]
  },
  {
   "cell_type": "markdown",
   "metadata": {},
   "source": [
    "<ol>\n",
    "    <li>For each possible model config, we create a Holt-Winters model for the train subset.\n",
    "    <li>For each Holt-Winters model, we fit the model to the train subset using each of the fit configs.\n",
    "    <li>For each of the fitted models, we predict the likely sales values for the validation set and then calcualte the SMAPE score for the predictions.\n",
    "    <li>We are looking for the model with the lowest SMAPE score\n",
    "</ol>        "
   ]
  },
  {
   "cell_type": "code",
   "execution_count": 55,
   "metadata": {},
   "outputs": [
    {
     "name": "stdout",
     "output_type": "stream",
     "text": [
      "Failed to build a model for config (None, True, 'add', 12)\n",
      "Failed to build a model for config (None, True, 'mul', 12)\n",
      "Failed to build a model for config (None, True, None, 12)\n",
      "The lowest SMAPE score achieved for the validation set = 0.7771\n",
      "The parameters for the model with best SMAPE:\n",
      "trend = add, damped = True, seasonal = add, seasonal_periods = 12\n",
      "smoothing_level = 0.20, smoothing_slope = 0.20, smoothing_seasonal = 0.60, damping_slope = 1.0, box_cox_transformation = False, remove_bias = False\n"
     ]
    }
   ],
   "source": [
    "model_configs = itertools.product(trend, damped, seasonal, seasonal_periods)\n",
    "fit_configs = itertools.product(smoothing_level, smoothing_slope, smoothing_seasonal, damping_slope, \n",
    "                                box_cox, remove_bias)\n",
    "best_smape = 100\n",
    "for m_config in model_configs:\n",
    "    t, d, s, s_p = m_config  \n",
    "    try:\n",
    "        history = np.array(ts_monthly[:train_idx])\n",
    "        model = ExponentialSmoothing(history, trend = t, damped = d, seasonal = s, \n",
    "                                     seasonal_periods = s_p)\n",
    "        for f_config in fit_configs:\n",
    "            sl, ss, s_s, d_s, b, r = f_config\n",
    "            try:\n",
    "                fit = model.fit(smoothing_level = sl, smoothing_slope = ss, smoothing_seasonal = s_s, \n",
    "                                damping_slope = d_s, optimized = False, use_boxcox = b, remove_bias = r)\n",
    "                preds = fit.predict(train_idx, val_idx-1)\n",
    "                #preds = np.exp(preds)\n",
    "                acts_monthly = ts_monthly[train_idx:val_idx]\n",
    "                smape = np.mean(abs(acts_monthly - preds)/(abs(acts_monthly) + abs(preds)))*100\n",
    "                if smape < best_smape:\n",
    "                    best_smape = smape\n",
    "                    best_m_config = m_config\n",
    "                    best_f_config = f_config\n",
    "            except:\n",
    "                print(\"Failed to fit a model for config {}\".format(f_config))\n",
    "    except:\n",
    "        print(\"Failed to build a model for config {}\".format(m_config))\n",
    "        continue\n",
    "\n",
    "t, d, s, s_p = best_m_config\n",
    "sl, ss, s_s, d_s, b, r = best_f_config\n",
    "\n",
    "print(\"The lowest SMAPE score achieved for the validation set = %.4f\" % best_smape)\n",
    "print(\"The parameters for the model with best SMAPE:\")\n",
    "print(\"trend = %s, damped = %s, seasonal = %s, seasonal_periods = %i\" % best_m_config)\n",
    "print(\"smoothing_level = %.2f, smoothing_slope = %.2f, smoothing_seasonal = %.2f, damping_slope = %s, box_cox_transformation = %s, remove_bias = %s\" \n",
    "      % best_f_config)"
   ]
  },
  {
   "cell_type": "markdown",
   "metadata": {},
   "source": [
    "#### Observations\n",
    "We look to get a more fine grained estimate of the <i>fit configuration</i> parameters by searching in a range close to the ideal values identified in the earlier step."
   ]
  },
  {
   "cell_type": "code",
   "execution_count": 56,
   "metadata": {},
   "outputs": [],
   "source": [
    "# Configuration options for the model()\n",
    "trend = ['add']\n",
    "damped = [True]\n",
    "seasonal = ['add']\n",
    "seasonal_periods = [12]\n",
    "\n",
    "# Configuration options for model.fit()\n",
    "smoothing_level = [0.1, 0.15, 0.2, 0.25, 0.3]\n",
    "smoothing_slope = [0.1, 0.15, 0.2, 0.25, 0.3]\n",
    "smoothing_seasonal = [0.5, 0.55, 0.6, 0.65, 0.7]\n",
    "damping_slope = [0.9, 0.95, 1]\n",
    "box_cox = [False]\n",
    "remove_bias = [False]"
   ]
  },
  {
   "cell_type": "code",
   "execution_count": 57,
   "metadata": {},
   "outputs": [
    {
     "name": "stdout",
     "output_type": "stream",
     "text": [
      "The lowest SMAPE score achieved for the validation set = 0.4046\n",
      "The parameters for the model with best SMAPE:\n",
      "trend = add, damped = True, seasonal = add, seasonal_periods = 12\n",
      "smoothing_level = 0.15, smoothing_slope = 0.30, smoothing_seasonal = 0.70, damping_slope = 0.95, box_cox_transformation = False, remove_bias = False\n"
     ]
    }
   ],
   "source": [
    "model_configs = itertools.product(trend, damped, seasonal, seasonal_periods)\n",
    "fit_configs = itertools.product(smoothing_level, smoothing_slope, smoothing_seasonal, damping_slope, \n",
    "                                box_cox, remove_bias)\n",
    "best_smape = 100\n",
    "for m_config in model_configs:\n",
    "    t, d, s, s_p = m_config  \n",
    "    try:\n",
    "        history = np.array(ts_monthly[:train_idx])\n",
    "        model = ExponentialSmoothing(history, trend = t, damped = d, seasonal = s, \n",
    "                                     seasonal_periods = s_p)\n",
    "        for f_config in fit_configs:\n",
    "            sl, ss, s_s, d_s, b, r = f_config\n",
    "            try:\n",
    "                fit = model.fit(smoothing_level = sl, smoothing_slope = ss, smoothing_seasonal = s_s, \n",
    "                                damping_slope = d_s, optimized = False, use_boxcox = b, remove_bias = r)\n",
    "                preds = fit.predict(train_idx, val_idx-1)\n",
    "                acts_monthly = ts_monthly[train_idx:val_idx]\n",
    "                smape = np.mean(abs(acts_monthly - preds)/(abs(acts_monthly) + abs(preds)))*100\n",
    "                if smape < best_smape:\n",
    "                    best_smape = smape\n",
    "                    best_m_config = m_config\n",
    "                    best_f_config = f_config\n",
    "            except:\n",
    "                print(\"Failed to fit a model for config {}\".format(f_config))\n",
    "    except:\n",
    "        print(\"Failed to build a model for config {}\".format(m_config))\n",
    "        continue\n",
    "\n",
    "t, d, s, s_p = best_m_config\n",
    "sl, ss, s_s, d_s, b, r = best_f_config\n",
    "\n",
    "print(\"The lowest SMAPE score achieved for the validation set = %.4f\" % best_smape)\n",
    "print(\"The parameters for the model with best SMAPE:\")\n",
    "print(\"trend = %s, damped = %s, seasonal = %s, seasonal_periods = %i\" % best_m_config)\n",
    "print(\"smoothing_level = %.2f, smoothing_slope = %.2f, smoothing_seasonal = %.2f, damping_slope = %s, box_cox_transformation = %s, remove_bias = %s\" \n",
    "      % best_f_config)"
   ]
  },
  {
   "cell_type": "code",
   "execution_count": 58,
   "metadata": {},
   "outputs": [
    {
     "data": {
      "image/png": "[encoded data removed]",
      "text/plain": [
       "<Figure size 936x288 with 1 Axes>"
      ]
     },
     "metadata": {
      "needs_background": "light"
     },
     "output_type": "display_data"
    }
   ],
   "source": [
    "history = np.array(ts_monthly[:train_idx])\n",
    "\n",
    "model = ExponentialSmoothing(history, trend = 'add', damped = True, seasonal = 'add', seasonal_periods = 12)\n",
    "fit = model.fit(smoothing_level = 0.15, smoothing_slope = 0.3, smoothing_seasonal = 0.7, damping_slope = 0.95, \n",
    "                optimized = False, use_boxcox = False, remove_bias = False)\n",
    "preds = fit.predict(train_idx, val_idx-1)\n",
    "acts = ts_monthly[train_idx:val_idx]\n",
    "\n",
    "plt.figure(figsize = (13, 4))\n",
    "plt.plot(ts_monthly.index[train_idx:val_idx], acts, label = 'act')\n",
    "plt.plot(ts_monthly.index[train_idx:val_idx], preds, label = 'preds')\n",
    "plt.legend()\n",
    "plt.show()"
   ]
  },
  {
   "cell_type": "markdown",
   "metadata": {},
   "source": [
    "#### Observations\n",
    "We have a good set of cross validated parameter values. We use these to build a new model that includes both the train and validation subsets and use the resulting model to estimate the likely test set error using the test subset. "
   ]
  },
  {
   "cell_type": "code",
   "execution_count": 59,
   "metadata": {},
   "outputs": [
    {
     "name": "stdout",
     "output_type": "stream",
     "text": [
      "The estimated test set SMAPE = 1.0860\n"
     ]
    },
    {
     "data": {
      "image/png": "[encoded data removed]",
      "text/plain": [
       "<Figure size 936x288 with 1 Axes>"
      ]
     },
     "metadata": {
      "needs_background": "light"
     },
     "output_type": "display_data"
    }
   ],
   "source": [
    "history = np.array(ts_monthly[:val_idx])\n",
    "\n",
    "model = ExponentialSmoothing(history, trend = 'add', damped = True, seasonal = 'add', seasonal_periods = 12)\n",
    "fit = model.fit(smoothing_level = 0.15, smoothing_slope = 0.3, smoothing_seasonal = 0.7, damping_slope = 0.95, \n",
    "                optimized = False, use_boxcox = False, remove_bias = False)\n",
    "preds = fit.predict(val_idx, len(ts_monthly)-1)\n",
    "acts = ts_monthly[val_idx:]\n",
    "smape = np.mean(abs(acts - preds)/(abs(acts) + abs(preds)))*100\n",
    "\n",
    "print(\"The estimated test set SMAPE = %.4f\" % smape)\n",
    "\n",
    "plt.figure(figsize = (13, 4))\n",
    "plt.plot(ts_monthly.index, ts_monthly, label = 'act')\n",
    "plt.plot(ts_monthly.index[val_idx:], preds, label = 'preds')\n",
    "plt.legend()\n",
    "plt.show()"
   ]
  },
  {
   "cell_type": "code",
   "execution_count": null,
   "metadata": {},
   "outputs": [],
   "source": []
  }
 ],
 "metadata": {
  "kernelspec": {
   "display_name": "Python 3",
   "language": "python",
   "name": "python3"
  },
  "language_info": {
   "codemirror_mode": {
    "name": "ipython",
    "version": 3
   },
   "file_extension": ".py",
   "mimetype": "text/x-python",
   "name": "python",
   "nbconvert_exporter": "python",
   "pygments_lexer": "ipython3",
   "version": "3.7.7"
  }
 },
 "nbformat": 4,
 "nbformat_minor": 4
}
