{
 "cells": [
  {
   "cell_type": "markdown",
   "metadata": {},
   "source": [
    "### Libraries"
   ]
  },
  {
   "cell_type": "code",
   "execution_count": 1,
   "metadata": {},
   "outputs": [],
   "source": [
    "import numpy as np\n",
    "import pandas as pd\n",
    "import matplotlib.pyplot as plt\n",
    "import statsmodels.api as sm\n",
    "import statsmodels.graphics.tsaplots as tsaplots\n",
    "from statsmodels.stats.diagnostic import acorr_ljungbox\n",
    "from statsmodels.tsa.statespace.sarimax import SARIMAX\n",
    "import itertools\n",
    "\n",
    "from sklearn.metrics import mean_squared_error"
   ]
  },
  {
   "cell_type": "markdown",
   "metadata": {},
   "source": [
    "### Get Data"
   ]
  },
  {
   "cell_type": "code",
   "execution_count": 2,
   "metadata": {},
   "outputs": [
    {
     "data": {
      "text/plain": [
       "2013-01-08   -0.009980\n",
       "2013-01-09    0.014516\n",
       "2013-01-10    0.010573\n",
       "2013-01-11   -0.002811\n",
       "2013-01-12    0.026858\n",
       "Freq: D, Name: sales, dtype: float64"
      ]
     },
     "execution_count": 2,
     "metadata": {},
     "output_type": "execute_result"
    }
   ],
   "source": [
    "train = pd.read_csv('./data/train.csv')\n",
    "\n",
    "'''Setting up the log transformed and differenced timeseries of daily sales across all stores. This step is the\n",
    "result of the exploratory data analysis.'''\n",
    "\n",
    "dailysales = np.log(train.groupby('date')['sales'].sum()).diff(7)\n",
    "dailysales = dailysales.dropna()\n",
    "\n",
    "# Explicitly setting the DatetimeIndex frequency\n",
    "dailysales.index = pd.DatetimeIndex(dailysales.index.values, freq = 'D')\n",
    "\n",
    "dailysales.head()"
   ]
  },
  {
   "cell_type": "markdown",
   "metadata": {},
   "source": [
    "### SARIMA Model Parameters - Grid Search"
   ]
  },
  {
   "cell_type": "markdown",
   "metadata": {},
   "source": [
    "The exploratory data analysis helps us set up the following grid for the transformed timeseries:\n",
    "<ol>\n",
    "    <li>MA params: p = 1, 2, 3, 4, 5, 6 and P = 0,\n",
    "    <li>AR params: q = 1, 2, 3, 4, 5, 6 and Q = 7, 8,\n",
    "    <li>d = D = 0, since we have already differenced the series, and\n",
    "    <li>s = 7.\n",
    "</ol>"
   ]
  },
  {
   "cell_type": "code",
   "execution_count": null,
   "metadata": {},
   "outputs": [
    {
     "name": "stdout",
     "output_type": "stream",
     "text": [
      "Optimization terminated successfully.\n",
      "         Current function value: -2.201292\n",
      "         Iterations: 8\n",
      "         Function evaluations: 941\n",
      "SARIMA(1, 0, 1),(0, 0, 7, 7) - AIC:-7988.300057785762\n",
      "Optimization terminated successfully.\n",
      "         Current function value: -2.201308\n",
      "         Iterations: 8\n",
      "         Function evaluations: 1021\n",
      "SARIMA(1, 0, 1),(0, 0, 8, 7) - AIC:-7986.3601716889025\n",
      "Optimization terminated successfully.\n",
      "         Current function value: -2.201191\n",
      "         Iterations: 8\n",
      "         Function evaluations: 1017\n",
      "SARIMA(1, 0, 2),(0, 0, 7, 7) - AIC:-7985.932132235948\n",
      "Optimization terminated successfully.\n",
      "         Current function value: -2.201216\n",
      "         Iterations: 8\n",
      "         Function evaluations: 1098\n",
      "SARIMA(1, 0, 2),(0, 0, 8, 7) - AIC:-7984.025308720158\n",
      "Optimization terminated successfully.\n",
      "         Current function value: -2.201343\n",
      "         Iterations: 9\n",
      "         Function evaluations: 1242\n",
      "SARIMA(1, 0, 3),(0, 0, 7, 7) - AIC:-7984.485174787294\n",
      "Optimization terminated successfully.\n",
      "         Current function value: -2.201366\n",
      "         Iterations: 9\n",
      "         Function evaluations: 1341\n",
      "SARIMA(1, 0, 3),(0, 0, 8, 7) - AIC:-7982.567823495359\n",
      "Optimization terminated successfully.\n",
      "         Current function value: -2.201248\n",
      "         Iterations: 11\n",
      "         Function evaluations: 1662\n",
      "SARIMA(1, 0, 4),(0, 0, 7, 7) - AIC:-7982.140817870049\n",
      "Optimization terminated successfully.\n",
      "         Current function value: -2.201305\n",
      "         Iterations: 10\n",
      "         Function evaluations: 1601\n",
      "SARIMA(1, 0, 4),(0, 0, 8, 7) - AIC:-7980.346684329263\n"
     ]
    }
   ],
   "source": [
    "# Set the parameter grid\n",
    "p = range(1,7)\n",
    "d = range(0,1)\n",
    "q = range(1, 7)\n",
    "P = range(0,1)\n",
    "D = range(0,1)\n",
    "Q = range(7, 9)\n",
    "s = range(7,8)\n",
    "\n",
    "# Forming the grid\n",
    "pdq = list(itertools.product(p, d, q))\n",
    "seasonal_pdq = list(itertools.product(P, D, Q, s))\n",
    "\n",
    "# SARIMA model pipeline\n",
    "for param in pdq:\n",
    "    for seasonal_param in seasonal_pdq:\n",
    "        try:\n",
    "            model = SARIMAX(dailysales, order = param, seasonal_order = seasonal_param)\n",
    "            results = model.fit(method = 'powell')\n",
    "            print('SARIMA{},{} - AIC:{}'.format(param, seasonal_param, results.aic))\n",
    "        except:\n",
    "            continue\n"
   ]
  },
  {
   "cell_type": "code",
   "execution_count": null,
   "metadata": {},
   "outputs": [],
   "source": [
    "train_len = np.int(0.9*len(tot_sls_trans))\n",
    "train_tot_sls_trans = tot_sls_trans[:train_len]\n",
    "test_tot_sls_trans = tot_sls_trans[train_len:]"
   ]
  },
  {
   "cell_type": "code",
   "execution_count": null,
   "metadata": {},
   "outputs": [],
   "source": [
    "# Set the implied frequency of the timeseries to suppress a subsequent warning by SARIMAX()\n",
    "dailysales_all.index = pd.DatetimeIndex(dailysales_all.index.values, \n",
    "                                           freq=dailysales_all.index.inferred_freq)\n",
    "\n",
    "model = SARIMAX(dailysales_all, order = (1, 1, 1), seasonal_order = (1, 1, 1, 7), \n",
    "                trend = 'n').fit(method = 'powell')\n",
    "res = model.resid\n",
    "\n",
    "display(model.summary())\n",
    "\n",
    "fig, (ax1, ax2) = plt.subplots(nrows = 2, figsize = (13, 9), sharex = True)\n",
    "\n",
    "tsaplots.plot_pacf(res, ax = ax1, \n",
    "                   title = 'Partial Autocorrelation Function for Residues')\n",
    "\n",
    "tsaplots.plot_acf(res, ax = ax2,\n",
    "                  title = 'Autocorrelation Function for Residues')\n",
    "ax2.set_xticks(np.arange(0, 36))\n",
    "ax2.set_xlabel('Lags in Days', fontsize = '12', fontweight = 'bold')\n",
    "\n",
    "plt.show()"
   ]
  }
 ],
 "metadata": {
  "kernelspec": {
   "display_name": "Python 3",
   "language": "python",
   "name": "python3"
  },
  "language_info": {
   "codemirror_mode": {
    "name": "ipython",
    "version": 3
   },
   "file_extension": ".py",
   "mimetype": "text/x-python",
   "name": "python",
   "nbconvert_exporter": "python",
   "pygments_lexer": "ipython3",
   "version": "3.7.7"
  }
 },
 "nbformat": 4,
 "nbformat_minor": 4
}
